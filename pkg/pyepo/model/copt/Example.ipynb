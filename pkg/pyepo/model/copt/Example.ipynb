{
  "cells": [
    {
      "cell_type": "code",
      "execution_count": 1,
      "metadata": {
        "colab": {
          "base_uri": "https://localhost:8080/",
          "height": 829
        },
        "id": "VBefPIvx73o7",
        "outputId": "1f01c3ec-1736-4fe1-accd-a660113cf7c7"
      },
      "outputs": [
        {
          "output_type": "stream",
          "name": "stdout",
          "text": [
            "fatal: destination path 'PyEPO' already exists and is not an empty directory.\n",
            "Processing ./PyEPO/pkg\n",
            "  Preparing metadata (setup.py) ... \u001b[?25l\u001b[?25hdone\n",
            "Requirement already satisfied: numpy in /usr/local/lib/python3.10/dist-packages (from pyepo==0.3.4) (1.23.5)\n",
            "Requirement already satisfied: scipy in /usr/local/lib/python3.10/dist-packages (from pyepo==0.3.4) (1.10.1)\n",
            "Requirement already satisfied: pathos in /usr/local/lib/python3.10/dist-packages (from pyepo==0.3.4) (0.3.1)\n",
            "Requirement already satisfied: tqdm in /usr/local/lib/python3.10/dist-packages (from pyepo==0.3.4) (4.66.1)\n",
            "Requirement already satisfied: Pyomo>=6.1.2 in /usr/local/lib/python3.10/dist-packages (from pyepo==0.3.4) (6.6.1)\n",
            "Requirement already satisfied: gurobipy>=9.1.2 in /usr/local/lib/python3.10/dist-packages (from pyepo==0.3.4) (10.0.2)\n",
            "Requirement already satisfied: scikit_learn in /usr/local/lib/python3.10/dist-packages (from pyepo==0.3.4) (1.2.2)\n",
            "Requirement already satisfied: torch>=1.13.1 in /usr/local/lib/python3.10/dist-packages (from pyepo==0.3.4) (2.0.1+cu118)\n",
            "Requirement already satisfied: ply in /usr/local/lib/python3.10/dist-packages (from Pyomo>=6.1.2->pyepo==0.3.4) (3.11)\n",
            "Requirement already satisfied: filelock in /usr/local/lib/python3.10/dist-packages (from torch>=1.13.1->pyepo==0.3.4) (3.12.2)\n",
            "Requirement already satisfied: typing-extensions in /usr/local/lib/python3.10/dist-packages (from torch>=1.13.1->pyepo==0.3.4) (4.7.1)\n",
            "Requirement already satisfied: sympy in /usr/local/lib/python3.10/dist-packages (from torch>=1.13.1->pyepo==0.3.4) (1.12)\n",
            "Requirement already satisfied: networkx in /usr/local/lib/python3.10/dist-packages (from torch>=1.13.1->pyepo==0.3.4) (3.1)\n",
            "Requirement already satisfied: jinja2 in /usr/local/lib/python3.10/dist-packages (from torch>=1.13.1->pyepo==0.3.4) (3.1.2)\n",
            "Requirement already satisfied: triton==2.0.0 in /usr/local/lib/python3.10/dist-packages (from torch>=1.13.1->pyepo==0.3.4) (2.0.0)\n",
            "Requirement already satisfied: cmake in /usr/local/lib/python3.10/dist-packages (from triton==2.0.0->torch>=1.13.1->pyepo==0.3.4) (3.27.2)\n",
            "Requirement already satisfied: lit in /usr/local/lib/python3.10/dist-packages (from triton==2.0.0->torch>=1.13.1->pyepo==0.3.4) (16.0.6)\n",
            "Requirement already satisfied: ppft>=1.7.6.7 in /usr/local/lib/python3.10/dist-packages (from pathos->pyepo==0.3.4) (1.7.6.7)\n",
            "Requirement already satisfied: dill>=0.3.7 in /usr/local/lib/python3.10/dist-packages (from pathos->pyepo==0.3.4) (0.3.7)\n",
            "Requirement already satisfied: pox>=0.3.3 in /usr/local/lib/python3.10/dist-packages (from pathos->pyepo==0.3.4) (0.3.3)\n",
            "Requirement already satisfied: multiprocess>=0.70.15 in /usr/local/lib/python3.10/dist-packages (from pathos->pyepo==0.3.4) (0.70.15)\n",
            "Requirement already satisfied: joblib>=1.1.1 in /usr/local/lib/python3.10/dist-packages (from scikit_learn->pyepo==0.3.4) (1.3.2)\n",
            "Requirement already satisfied: threadpoolctl>=2.0.0 in /usr/local/lib/python3.10/dist-packages (from scikit_learn->pyepo==0.3.4) (3.2.0)\n",
            "Requirement already satisfied: MarkupSafe>=2.0 in /usr/local/lib/python3.10/dist-packages (from jinja2->torch>=1.13.1->pyepo==0.3.4) (2.1.3)\n",
            "Requirement already satisfied: mpmath>=0.19 in /usr/local/lib/python3.10/dist-packages (from sympy->torch>=1.13.1->pyepo==0.3.4) (1.3.0)\n",
            "Building wheels for collected packages: pyepo\n",
            "  Building wheel for pyepo (setup.py) ... \u001b[?25l\u001b[?25hdone\n",
            "  Created wheel for pyepo: filename=pyepo-0.3.4-py3-none-any.whl size=40280 sha256=9304fad6b5fe81f18151c4fd26f54d944f13a63a2a2ac446367567375cde9054\n",
            "  Stored in directory: /tmp/pip-ephem-wheel-cache-klohwiza/wheels/46/e0/92/19132b049913f800d1a8d6e61b81fe00bcac3f9d11ef30d2a5\n",
            "Successfully built pyepo\n",
            "Installing collected packages: pyepo\n",
            "  Attempting uninstall: pyepo\n",
            "    Found existing installation: pyepo 0.3.4\n",
            "    Uninstalling pyepo-0.3.4:\n",
            "      Successfully uninstalled pyepo-0.3.4\n",
            "Successfully installed pyepo-0.3.4\n"
          ]
        },
        {
          "output_type": "display_data",
          "data": {
            "application/vnd.colab-display-data+json": {
              "pip_warning": {
                "packages": [
                  "pyepo"
                ]
              }
            }
          },
          "metadata": {}
        }
      ],
      "source": [
        "# download\n",
        "!git clone -b main --depth 1 https://github.com/khalil-research/PyEPO.git\n",
        "# install\n",
        "!pip install PyEPO/pkg/.\n",
        "!pip install COPT"
      ]
    },
    {
      "cell_type": "markdown",
      "metadata": {
        "id": "HjxG2TL58ZFb"
      },
      "source": [
        "## Build optModel"
      ]
    },
    {
      "cell_type": "code",
      "execution_count": 2,
      "metadata": {
        "colab": {
          "base_uri": "https://localhost:8080/"
        },
        "id": "nRbnYdWx8M8L",
        "outputId": "5570cda9-b528-4895-9fbe-520b69f32ed7"
      },
      "outputs": [
        {
          "output_type": "stream",
          "name": "stdout",
          "text": [
            "Cardinal Optimizer v6.5.7. Build date Jul 28 2023\n",
            "Copyright Cardinal Operations 2023. All Rights Reserved\n",
            "\n"
          ]
        }
      ],
      "source": [
        "from coptpy import COPT\n",
        "from pyepo.model.copt import optCoptModel\n",
        "\n",
        "class myOptModel(optCoptModel):\n",
        "    def _getModel(self):\n",
        "        # ceate a model\n",
        "        from coptpy import Envr\n",
        "        m = Envr().createModel()\n",
        "        # varibles\n",
        "        x = m.addVars(5, nameprefix='x', vtype=COPT.BINARY)\n",
        "        # sense\n",
        "        m.setObjSense(COPT.MAXIMIZE)\n",
        "        # constraints\n",
        "        m.addConstr(3*x[0]+4*x[1]+3*x[2]+6*x[3]+4*x[4]<=12)\n",
        "        m.addConstr(4*x[0]+5*x[1]+2*x[2]+3*x[3]+5*x[4]<=10)\n",
        "        m.addConstr(5*x[0]+4*x[1]+6*x[2]+2*x[3]+3*x[4]<=15)\n",
        "        return m, x\n",
        "\n",
        "optmodel = myOptModel()"
      ]
    },
    {
      "cell_type": "markdown",
      "metadata": {
        "id": "-vsQ0Vre84_1"
      },
      "source": [
        "## Problem Data"
      ]
    },
    {
      "cell_type": "code",
      "execution_count": 3,
      "metadata": {
        "id": "-rqtFovN8-Gc"
      },
      "outputs": [],
      "source": [
        "import torch\n",
        "torch.manual_seed(42)\n",
        "\n",
        "num_data = 1000 # number of data\n",
        "num_feat = 5 # feature dimention\n",
        "num_cost = 5 # cost dimention\n",
        "\n",
        "# randomly generate data\n",
        "x_true = torch.rand(num_data, num_feat) # feature\n",
        "weight_true = torch.rand(num_feat, num_cost) # weight\n",
        "bias_true = torch.randn(num_cost) # bias\n",
        "noise = 0.5 * torch.randn(num_data, num_cost) # random noise\n",
        "c_true = x_true @ weight_true + bias_true + noise # cost coef"
      ]
    },
    {
      "cell_type": "code",
      "execution_count": 4,
      "metadata": {
        "colab": {
          "base_uri": "https://localhost:8080/"
        },
        "id": "Tk_wcRiq_5_K",
        "outputId": "41290c94-120e-4ef1-f04c-b4d778a3cc40"
      },
      "outputs": [
        {
          "output_type": "stream",
          "name": "stdout",
          "text": [
            "Optimizing for optDataset...\n"
          ]
        },
        {
          "output_type": "stream",
          "name": "stderr",
          "text": [
            "100%|██████████| 800/800 [00:18<00:00, 42.29it/s] \n"
          ]
        },
        {
          "output_type": "stream",
          "name": "stdout",
          "text": [
            "Optimizing for optDataset...\n"
          ]
        },
        {
          "output_type": "stream",
          "name": "stderr",
          "text": [
            "100%|██████████| 200/200 [00:01<00:00, 168.06it/s]\n"
          ]
        }
      ],
      "source": [
        "# split train test data\n",
        "from sklearn.model_selection import train_test_split\n",
        "x_train, x_test, c_train, c_test = train_test_split(x_true, c_true, test_size=200, random_state=42)\n",
        "\n",
        "# build optDataset\n",
        "from pyepo.data.dataset import optDataset\n",
        "dataset_train = optDataset(optmodel, x_train, c_train)\n",
        "dataset_test = optDataset(optmodel, x_test, c_test)\n",
        "\n",
        "# build DataLoader\n",
        "from torch.utils.data import DataLoader\n",
        "batch_size = 32\n",
        "loader_train = DataLoader(dataset_train, batch_size=batch_size, shuffle=True)\n",
        "loader_test = DataLoader(dataset_test, batch_size=batch_size, shuffle=False)"
      ]
    },
    {
      "cell_type": "markdown",
      "metadata": {
        "id": "ZENnTDsKEwho"
      },
      "source": [
        "## Build Prediction Model"
      ]
    },
    {
      "cell_type": "code",
      "execution_count": 5,
      "metadata": {
        "id": "g2mNrexpEvhS"
      },
      "outputs": [],
      "source": [
        "import torch\n",
        "from torch import nn\n",
        "\n",
        "# build linear model\n",
        "class LinearRegression(nn.Module):\n",
        "    def __init__(self):\n",
        "        super(LinearRegression, self).__init__()\n",
        "        self.linear = nn.Linear(num_feat, num_cost)\n",
        "\n",
        "    def forward(self, x):\n",
        "        out = self.linear(x)\n",
        "        return out\n",
        "\n",
        "# init model\n",
        "reg = LinearRegression()\n",
        "# cuda\n",
        "if torch.cuda.is_available():\n",
        "    reg = reg.cuda()"
      ]
    },
    {
      "cell_type": "markdown",
      "metadata": {
        "id": "oyDZry1AD99r"
      },
      "source": [
        "## AutoGrad Module for Optimization"
      ]
    },
    {
      "cell_type": "code",
      "execution_count": 6,
      "metadata": {
        "colab": {
          "base_uri": "https://localhost:8080/"
        },
        "id": "4Ykku_3eDsNc",
        "outputId": "4d59d46f-6355-46a2-ccf3-38a5ac365cef"
      },
      "outputs": [
        {
          "output_type": "stream",
          "name": "stdout",
          "text": [
            "Num of cores: 2\n",
            "Num of cores: 2\n",
            "Num of cores: 2\n"
          ]
        }
      ],
      "source": [
        "import pyepo\n",
        "\n",
        "# init SPO+ loss\n",
        "spop = pyepo.func.SPOPlus(optmodel, processes=2)\n",
        "# init PFY loss\n",
        "pfy = pyepo.func.perturbedFenchelYoung(optmodel, n_samples=3, sigma=1.0, processes=2)\n",
        "# init NCE loss\n",
        "nce = pyepo.func.NCE(optmodel, processes=2, solve_ratio=0.05, dataset=dataset_train)"
      ]
    },
    {
      "cell_type": "code",
      "execution_count": 7,
      "metadata": {
        "colab": {
          "base_uri": "https://localhost:8080/"
        },
        "id": "Ets2ndfSFnag",
        "outputId": "2f505892-c6ef-4746-c39f-c02240f6ef0c"
      },
      "outputs": [
        {
          "output_type": "stream",
          "name": "stdout",
          "text": [
            "Loss:    6.5576,  Regret: 21.4272%\n",
            "Loss:    3.9369,  Regret:  0.1530%\n",
            "Loss:    2.1917,  Regret:  0.1530%\n",
            "Loss:    0.7715,  Regret:  0.1530%\n",
            "Loss:    0.4534,  Regret:  0.1530%\n"
          ]
        }
      ],
      "source": [
        "  # set adam optimizer\n",
        "  optimizer = torch.optim.Adam(reg.parameters(), lr=5e-3)\n",
        "\n",
        "  # train mode\n",
        "  reg.train()\n",
        "  for epoch in range(5):\n",
        "    # load data\n",
        "    for i, data in enumerate(loader_train):\n",
        "        x, c, w, z = data # feat, cost, sol, obj\n",
        "        # cuda\n",
        "        if torch.cuda.is_available():\n",
        "            x, c, w, z = x.cuda(), c.cuda(), w.cuda(), z.cuda()\n",
        "        # forward pass\n",
        "        cp = reg(x)\n",
        "        loss = spop(cp, c, w, z)\n",
        "        # backward pass\n",
        "        optimizer.zero_grad()\n",
        "        loss.backward()\n",
        "        optimizer.step()\n",
        "    # log\n",
        "    regret = pyepo.metric.regret(reg, optmodel, loader_test)\n",
        "    print(\"Loss: {:9.4f},  Regret: {:7.4f}%\".format(loss.item(), regret*100))"
      ]
    },
    {
      "cell_type": "code",
      "execution_count": 7,
      "metadata": {
        "id": "yBl4rTYk1vEf"
      },
      "outputs": [],
      "source": []
    }
  ],
  "metadata": {
    "colab": {
      "provenance": []
    },
    "kernelspec": {
      "display_name": "Python 3 (ipykernel)",
      "language": "python",
      "name": "python3"
    },
    "language_info": {
      "codemirror_mode": {
        "name": "ipython",
        "version": 3
      },
      "file_extension": ".py",
      "mimetype": "text/x-python",
      "name": "python",
      "nbconvert_exporter": "python",
      "pygments_lexer": "ipython3",
      "version": "3.9.15"
    }
  },
  "nbformat": 4,
  "nbformat_minor": 0
}
